{
 "cells": [
  {
   "cell_type": "code",
   "execution_count": 4,
   "id": "c6255a27",
   "metadata": {},
   "outputs": [],
   "source": [
    "\n",
    "import pandas as pd\n",
    "import numpy as np\n",
    "train_data = pd.read_csv('C:/Users/HPS/Desktop/DM 2/734318525270241_File(new)/assignment3091251010/llm-detect-ai-generated-text/train_essays.csv')"
   ]
  },
  {
   "cell_type": "code",
   "execution_count": 5,
   "id": "ae15b583",
   "metadata": {},
   "outputs": [
    {
     "data": {
      "text/plain": [
       "(1378, 3)"
      ]
     },
     "execution_count": 5,
     "metadata": {},
     "output_type": "execute_result"
    }
   ],
   "source": [
    "len(train_data), sum(train_data['generated'])"
   ]
  },
  {
   "cell_type": "code",
   "execution_count": 6,
   "id": "29aa622a",
   "metadata": {},
   "outputs": [
    {
     "data": {
      "text/html": [
       "<div>\n",
       "<style scoped>\n",
       "    .dataframe tbody tr th:only-of-type {\n",
       "        vertical-align: middle;\n",
       "    }\n",
       "\n",
       "    .dataframe tbody tr th {\n",
       "        vertical-align: top;\n",
       "    }\n",
       "\n",
       "    .dataframe thead th {\n",
       "        text-align: right;\n",
       "    }\n",
       "</style>\n",
       "<table border=\"1\" class=\"dataframe\">\n",
       "  <thead>\n",
       "    <tr style=\"text-align: right;\">\n",
       "      <th></th>\n",
       "      <th>id</th>\n",
       "      <th>prompt_id</th>\n",
       "      <th>text</th>\n",
       "      <th>generated</th>\n",
       "    </tr>\n",
       "  </thead>\n",
       "  <tbody>\n",
       "    <tr>\n",
       "      <th>0</th>\n",
       "      <td>0059830c</td>\n",
       "      <td>0</td>\n",
       "      <td>Cars. Cars have been around since they became ...</td>\n",
       "      <td>0</td>\n",
       "    </tr>\n",
       "    <tr>\n",
       "      <th>1</th>\n",
       "      <td>005db917</td>\n",
       "      <td>0</td>\n",
       "      <td>Transportation is a large necessity in most co...</td>\n",
       "      <td>0</td>\n",
       "    </tr>\n",
       "    <tr>\n",
       "      <th>2</th>\n",
       "      <td>008f63e3</td>\n",
       "      <td>0</td>\n",
       "      <td>\"America's love affair with it's vehicles seem...</td>\n",
       "      <td>0</td>\n",
       "    </tr>\n",
       "    <tr>\n",
       "      <th>3</th>\n",
       "      <td>00940276</td>\n",
       "      <td>0</td>\n",
       "      <td>How often do you ride in a car? Do you drive a...</td>\n",
       "      <td>0</td>\n",
       "    </tr>\n",
       "    <tr>\n",
       "      <th>4</th>\n",
       "      <td>00c39458</td>\n",
       "      <td>0</td>\n",
       "      <td>Cars are a wonderful thing. They are perhaps o...</td>\n",
       "      <td>0</td>\n",
       "    </tr>\n",
       "  </tbody>\n",
       "</table>\n",
       "</div>"
      ],
      "text/plain": [
       "         id  prompt_id                                               text  \\\n",
       "0  0059830c          0  Cars. Cars have been around since they became ...   \n",
       "1  005db917          0  Transportation is a large necessity in most co...   \n",
       "2  008f63e3          0  \"America's love affair with it's vehicles seem...   \n",
       "3  00940276          0  How often do you ride in a car? Do you drive a...   \n",
       "4  00c39458          0  Cars are a wonderful thing. They are perhaps o...   \n",
       "\n",
       "   generated  \n",
       "0          0  \n",
       "1          0  \n",
       "2          0  \n",
       "3          0  \n",
       "4          0  "
      ]
     },
     "execution_count": 6,
     "metadata": {},
     "output_type": "execute_result"
    }
   ],
   "source": [
    "train_data.head()"
   ]
  },
  {
   "cell_type": "code",
   "execution_count": 9,
   "id": "d1dda32f",
   "metadata": {},
   "outputs": [
    {
     "data": {
      "text/html": [
       "<div>\n",
       "<style scoped>\n",
       "    .dataframe tbody tr th:only-of-type {\n",
       "        vertical-align: middle;\n",
       "    }\n",
       "\n",
       "    .dataframe tbody tr th {\n",
       "        vertical-align: top;\n",
       "    }\n",
       "\n",
       "    .dataframe thead th {\n",
       "        text-align: right;\n",
       "    }\n",
       "</style>\n",
       "<table border=\"1\" class=\"dataframe\">\n",
       "  <thead>\n",
       "    <tr style=\"text-align: right;\">\n",
       "      <th></th>\n",
       "      <th>id</th>\n",
       "      <th>prompt_id</th>\n",
       "      <th>text</th>\n",
       "      <th>generated</th>\n",
       "    </tr>\n",
       "  </thead>\n",
       "  <tbody>\n",
       "    <tr>\n",
       "      <th>704</th>\n",
       "      <td>82131f68</td>\n",
       "      <td>1</td>\n",
       "      <td>This essay will analyze, discuss and prove one...</td>\n",
       "      <td>1</td>\n",
       "    </tr>\n",
       "    <tr>\n",
       "      <th>740</th>\n",
       "      <td>86fe4f18</td>\n",
       "      <td>1</td>\n",
       "      <td>I strongly believe that the Electoral College ...</td>\n",
       "      <td>1</td>\n",
       "    </tr>\n",
       "    <tr>\n",
       "      <th>1262</th>\n",
       "      <td>eafb8a56</td>\n",
       "      <td>0</td>\n",
       "      <td>Limiting car use causes pollution, increases c...</td>\n",
       "      <td>1</td>\n",
       "    </tr>\n",
       "  </tbody>\n",
       "</table>\n",
       "</div>"
      ],
      "text/plain": [
       "            id  prompt_id                                               text  \\\n",
       "704   82131f68          1  This essay will analyze, discuss and prove one...   \n",
       "740   86fe4f18          1  I strongly believe that the Electoral College ...   \n",
       "1262  eafb8a56          0  Limiting car use causes pollution, increases c...   \n",
       "\n",
       "      generated  \n",
       "704           1  \n",
       "740           1  \n",
       "1262          1  "
      ]
     },
     "execution_count": 9,
     "metadata": {},
     "output_type": "execute_result"
    }
   ],
   "source": [
    "train_data[train_data['generated']==1]"
   ]
  },
  {
   "cell_type": "code",
   "execution_count": 12,
   "id": "101174e3",
   "metadata": {},
   "outputs": [],
   "source": [
    "train_data1 = pd.read_csv('C:/Users/HPS/Desktop/DM 2/734318525270241_File(new)/assignment3091251010/llm1.csv')"
   ]
  },
  {
   "cell_type": "code",
   "execution_count": 13,
   "id": "86fb65df",
   "metadata": {},
   "outputs": [
    {
     "data": {
      "text/plain": [
       "900"
      ]
     },
     "execution_count": 13,
     "metadata": {},
     "output_type": "execute_result"
    }
   ],
   "source": [
    "len(train_data1)"
   ]
  },
  {
   "cell_type": "code",
   "execution_count": 14,
   "id": "bcc52250",
   "metadata": {},
   "outputs": [
    {
     "data": {
      "text/html": [
       "<div>\n",
       "<style scoped>\n",
       "    .dataframe tbody tr th:only-of-type {\n",
       "        vertical-align: middle;\n",
       "    }\n",
       "\n",
       "    .dataframe tbody tr th {\n",
       "        vertical-align: top;\n",
       "    }\n",
       "\n",
       "    .dataframe thead th {\n",
       "        text-align: right;\n",
       "    }\n",
       "</style>\n",
       "<table border=\"1\" class=\"dataframe\">\n",
       "  <thead>\n",
       "    <tr style=\"text-align: right;\">\n",
       "      <th></th>\n",
       "      <th>Unnamed: 0</th>\n",
       "      <th>text</th>\n",
       "      <th>label</th>\n",
       "    </tr>\n",
       "  </thead>\n",
       "  <tbody>\n",
       "    <tr>\n",
       "      <th>0</th>\n",
       "      <td>0</td>\n",
       "      <td>Title: The Importance and Efficiency of the El...</td>\n",
       "      <td>1</td>\n",
       "    </tr>\n",
       "    <tr>\n",
       "      <th>1</th>\n",
       "      <td>1</td>\n",
       "      <td>Title: The Validity and Functionality of the E...</td>\n",
       "      <td>1</td>\n",
       "    </tr>\n",
       "    <tr>\n",
       "      <th>2</th>\n",
       "      <td>2</td>\n",
       "      <td>Title: The Benefits of Limiting Car Usage: An ...</td>\n",
       "      <td>1</td>\n",
       "    </tr>\n",
       "    <tr>\n",
       "      <th>3</th>\n",
       "      <td>3</td>\n",
       "      <td>Title: The Functioning and Importance of the E...</td>\n",
       "      <td>1</td>\n",
       "    </tr>\n",
       "    <tr>\n",
       "      <th>4</th>\n",
       "      <td>4</td>\n",
       "      <td>Title: The Advantages of Limiting Car Usage\\n\\...</td>\n",
       "      <td>1</td>\n",
       "    </tr>\n",
       "  </tbody>\n",
       "</table>\n",
       "</div>"
      ],
      "text/plain": [
       "   Unnamed: 0                                               text  label\n",
       "0           0  Title: The Importance and Efficiency of the El...      1\n",
       "1           1  Title: The Validity and Functionality of the E...      1\n",
       "2           2  Title: The Benefits of Limiting Car Usage: An ...      1\n",
       "3           3  Title: The Functioning and Importance of the E...      1\n",
       "4           4  Title: The Advantages of Limiting Car Usage\\n\\...      1"
      ]
     },
     "execution_count": 14,
     "metadata": {},
     "output_type": "execute_result"
    }
   ],
   "source": [
    "train_data1.head()"
   ]
  },
  {
   "cell_type": "code",
   "execution_count": 15,
   "id": "0aa84d98",
   "metadata": {},
   "outputs": [
    {
     "data": {
      "text/html": [
       "<div>\n",
       "<style scoped>\n",
       "    .dataframe tbody tr th:only-of-type {\n",
       "        vertical-align: middle;\n",
       "    }\n",
       "\n",
       "    .dataframe tbody tr th {\n",
       "        vertical-align: top;\n",
       "    }\n",
       "\n",
       "    .dataframe thead th {\n",
       "        text-align: right;\n",
       "    }\n",
       "</style>\n",
       "<table border=\"1\" class=\"dataframe\">\n",
       "  <thead>\n",
       "    <tr style=\"text-align: right;\">\n",
       "      <th></th>\n",
       "      <th>text</th>\n",
       "      <th>label</th>\n",
       "    </tr>\n",
       "  </thead>\n",
       "  <tbody>\n",
       "    <tr>\n",
       "      <th>0</th>\n",
       "      <td>Cars. Cars have been around since they became ...</td>\n",
       "      <td>0</td>\n",
       "    </tr>\n",
       "    <tr>\n",
       "      <th>1</th>\n",
       "      <td>Transportation is a large necessity in most co...</td>\n",
       "      <td>0</td>\n",
       "    </tr>\n",
       "    <tr>\n",
       "      <th>2</th>\n",
       "      <td>\"America's love affair with it's vehicles seem...</td>\n",
       "      <td>0</td>\n",
       "    </tr>\n",
       "    <tr>\n",
       "      <th>3</th>\n",
       "      <td>How often do you ride in a car? Do you drive a...</td>\n",
       "      <td>0</td>\n",
       "    </tr>\n",
       "    <tr>\n",
       "      <th>4</th>\n",
       "      <td>Cars are a wonderful thing. They are perhaps o...</td>\n",
       "      <td>0</td>\n",
       "    </tr>\n",
       "  </tbody>\n",
       "</table>\n",
       "</div>"
      ],
      "text/plain": [
       "                                                text  label\n",
       "0  Cars. Cars have been around since they became ...      0\n",
       "1  Transportation is a large necessity in most co...      0\n",
       "2  \"America's love affair with it's vehicles seem...      0\n",
       "3  How often do you ride in a car? Do you drive a...      0\n",
       "4  Cars are a wonderful thing. They are perhaps o...      0"
      ]
     },
     "execution_count": 15,
     "metadata": {},
     "output_type": "execute_result"
    }
   ],
   "source": [
    "df1 = pd.DataFrame({'text': list(train_data['text']), 'label': list(train_data['generated'])})\n",
    "df1.head()"
   ]
  },
  {
   "cell_type": "code",
   "execution_count": 16,
   "id": "64def2e3",
   "metadata": {},
   "outputs": [
    {
     "data": {
      "text/plain": [
       "2278"
      ]
     },
     "execution_count": 16,
     "metadata": {},
     "output_type": "execute_result"
    }
   ],
   "source": [
    "full_data = pd.concat([df1, train_data1[['text', 'label']]], axis=0)\n",
    "full_data = full_data.sample(frac=1).reset_index(drop=True)\n",
    "len(full_data)"
   ]
  },
  {
   "cell_type": "code",
   "execution_count": 17,
   "id": "7291b093",
   "metadata": {},
   "outputs": [],
   "source": [
    "ratio = 0.75\n",
    " \n",
    "total_rows = full_data.shape[0]\n",
    "train_size = int(total_rows*ratio)\n",
    " \n",
    "# Split data into test and train\n",
    "train = full_data[0:train_size]\n",
    "test = full_data[train_size:]"
   ]
  },
  {
   "cell_type": "code",
   "execution_count": 18,
   "id": "1b53df37",
   "metadata": {},
   "outputs": [
    {
     "data": {
      "text/plain": [
       "(220, 570, 683, 1708)"
      ]
     },
     "execution_count": 18,
     "metadata": {},
     "output_type": "execute_result"
    }
   ],
   "source": [
    "sum(test['label']), len(test['label']), sum(train['label']), len(train['label'])"
   ]
  },
  {
   "cell_type": "code",
   "execution_count": 19,
   "id": "52ddaa7d",
   "metadata": {},
   "outputs": [],
   "source": [
    "def prior_prediction(label_column):\n",
    "    distinct_labels = list(set(label_column))\n",
    "    prob_1 = sum(label_column)/len(label_column)\n",
    "    prob_0 = 1 - prob_1\n",
    "    labels = {1: prob_1, 0: prob_0}\n",
    "    return labels"
   ]
  },
  {
   "cell_type": "code",
   "execution_count": null,
   "id": "1fe563fb",
   "metadata": {},
   "outputs": [],
   "source": []
  },
  {
   "cell_type": "code",
   "execution_count": 20,
   "id": "10704412",
   "metadata": {},
   "outputs": [
    {
     "name": "stderr",
     "output_type": "stream",
     "text": [
      "[nltk_data] Downloading package stopwords to\n",
      "[nltk_data]     C:\\Users\\HPS\\AppData\\Roaming\\nltk_data...\n",
      "[nltk_data]   Package stopwords is already up-to-date!\n"
     ]
    }
   ],
   "source": [
    "import nltk, string\n",
    "nltk.download('stopwords')\n",
    "from nltk.corpus import stopwords\n",
    "sw_nltk = stopwords.words('english')"
   ]
  },
  {
   "cell_type": "code",
   "execution_count": 21,
   "id": "c010e111",
   "metadata": {},
   "outputs": [],
   "source": [
    "vocab = {}\n",
    "for i in range(len(train['text'])):\n",
    "    word_list = []\n",
    "    for word in train['text'][i].split():\n",
    "        word_new  = word.strip(string.punctuation).lower()\n",
    "        if (len(word_new)>2)  and (word_new not in sw_nltk): \n",
    "            vocab[word_new] = vocab.get(word_new, 0) + 1"
   ]
  },
  {
   "cell_type": "code",
   "execution_count": 22,
   "id": "150d144c",
   "metadata": {},
   "outputs": [],
   "source": [
    "features = []\n",
    "cutoff_freq = 80\n",
    "for key in vocab:\n",
    "    if vocab[key] >=cutoff_freq:\n",
    "        features.append(key)\n",
    "features_dict = {}\n",
    "for i, item in enumerate(features):\n",
    "    features_dict[item] = i"
   ]
  },
  {
   "cell_type": "code",
   "execution_count": 23,
   "id": "4c031e8f",
   "metadata": {},
   "outputs": [],
   "source": [
    "X_train_dataset = np.zeros((len(train),len(features)))\n",
    "# This can take some time to complete\n",
    "for i in range(len(train)):\n",
    "    word_list = [ word.strip(string.punctuation).lower() for word in train['text'][i].split()]\n",
    "    for word in word_list:\n",
    "        if word in features_dict:\n",
    "            X_train_dataset[i][features_dict[word]] += 1"
   ]
  },
  {
   "cell_type": "code",
   "execution_count": 24,
   "id": "897d2acd",
   "metadata": {},
   "outputs": [],
   "source": [
    "X_test_dataset = np.zeros((len(test),len(features)))\n",
    "# This can take some time to complete\n",
    "for i in range(len(test)):\n",
    "    word_list = [ word.strip(string.punctuation).lower() for word in list(test['text'])[i].split()]\n",
    "    for word in word_list:\n",
    "        if word in features_dict:\n",
    "            X_test_dataset[i][features_dict[word]] += 1"
   ]
  },
  {
   "cell_type": "code",
   "execution_count": 25,
   "id": "6aa43964",
   "metadata": {},
   "outputs": [
    {
     "data": {
      "text/html": [
       "<div>\n",
       "<style scoped>\n",
       "    .dataframe tbody tr th:only-of-type {\n",
       "        vertical-align: middle;\n",
       "    }\n",
       "\n",
       "    .dataframe tbody tr th {\n",
       "        vertical-align: top;\n",
       "    }\n",
       "\n",
       "    .dataframe thead th {\n",
       "        text-align: right;\n",
       "    }\n",
       "</style>\n",
       "<table border=\"1\" class=\"dataframe\">\n",
       "  <thead>\n",
       "    <tr style=\"text-align: right;\">\n",
       "      <th></th>\n",
       "      <th>text</th>\n",
       "      <th>label</th>\n",
       "    </tr>\n",
       "  </thead>\n",
       "  <tbody>\n",
       "    <tr>\n",
       "      <th>1708</th>\n",
       "      <td>Title: The Advantages of Limiting Car Usage\\n\\...</td>\n",
       "      <td>1</td>\n",
       "    </tr>\n",
       "    <tr>\n",
       "      <th>1709</th>\n",
       "      <td>When it comei to automobilei they can provide ...</td>\n",
       "      <td>0</td>\n",
       "    </tr>\n",
       "    <tr>\n",
       "      <th>1710</th>\n",
       "      <td>Dear senator, My associates and I, have though...</td>\n",
       "      <td>0</td>\n",
       "    </tr>\n",
       "    <tr>\n",
       "      <th>1711</th>\n",
       "      <td>Cars are creating an harmful environment with ...</td>\n",
       "      <td>0</td>\n",
       "    </tr>\n",
       "    <tr>\n",
       "      <th>1712</th>\n",
       "      <td>Title: The Advantages of Limiting Car Usage\\n\\...</td>\n",
       "      <td>1</td>\n",
       "    </tr>\n",
       "  </tbody>\n",
       "</table>\n",
       "</div>"
      ],
      "text/plain": [
       "                                                   text  label\n",
       "1708  Title: The Advantages of Limiting Car Usage\\n\\...      1\n",
       "1709  When it comei to automobilei they can provide ...      0\n",
       "1710  Dear senator, My associates and I, have though...      0\n",
       "1711  Cars are creating an harmful environment with ...      0\n",
       "1712  Title: The Advantages of Limiting Car Usage\\n\\...      1"
      ]
     },
     "execution_count": 25,
     "metadata": {},
     "output_type": "execute_result"
    }
   ],
   "source": [
    "test.head()"
   ]
  },
  {
   "cell_type": "code",
   "execution_count": 26,
   "id": "288a3d00",
   "metadata": {},
   "outputs": [
    {
     "data": {
      "text/html": [
       "<div>\n",
       "<style scoped>\n",
       "    .dataframe tbody tr th:only-of-type {\n",
       "        vertical-align: middle;\n",
       "    }\n",
       "\n",
       "    .dataframe tbody tr th {\n",
       "        vertical-align: top;\n",
       "    }\n",
       "\n",
       "    .dataframe thead th {\n",
       "        text-align: right;\n",
       "    }\n",
       "</style>\n",
       "<table border=\"1\" class=\"dataframe\">\n",
       "  <thead>\n",
       "    <tr style=\"text-align: right;\">\n",
       "      <th></th>\n",
       "      <th>text</th>\n",
       "      <th>label</th>\n",
       "    </tr>\n",
       "  </thead>\n",
       "  <tbody>\n",
       "    <tr>\n",
       "      <th>0</th>\n",
       "      <td>Dear State Senator, Everyone has their very ow...</td>\n",
       "      <td>0</td>\n",
       "    </tr>\n",
       "    <tr>\n",
       "      <th>1</th>\n",
       "      <td>State Senator, The Electoral College is outdat...</td>\n",
       "      <td>0</td>\n",
       "    </tr>\n",
       "    <tr>\n",
       "      <th>2</th>\n",
       "      <td>Title: The Benefits of Limiting Car Usage: A S...</td>\n",
       "      <td>1</td>\n",
       "    </tr>\n",
       "    <tr>\n",
       "      <th>3</th>\n",
       "      <td>Title: The Benefits of Limiting Car Usage\\n\\nA...</td>\n",
       "      <td>1</td>\n",
       "    </tr>\n",
       "    <tr>\n",
       "      <th>4</th>\n",
       "      <td>Title: Rethinking Car Usage: Benefits for Ours...</td>\n",
       "      <td>1</td>\n",
       "    </tr>\n",
       "  </tbody>\n",
       "</table>\n",
       "</div>"
      ],
      "text/plain": [
       "                                                text  label\n",
       "0  Dear State Senator, Everyone has their very ow...      0\n",
       "1  State Senator, The Electoral College is outdat...      0\n",
       "2  Title: The Benefits of Limiting Car Usage: A S...      1\n",
       "3  Title: The Benefits of Limiting Car Usage\\n\\nA...      1\n",
       "4  Title: Rethinking Car Usage: Benefits for Ours...      1"
      ]
     },
     "execution_count": 26,
     "metadata": {},
     "output_type": "execute_result"
    }
   ],
   "source": [
    "train.head()"
   ]
  },
  {
   "cell_type": "markdown",
   "id": "20bbc695",
   "metadata": {},
   "source": [
    "### Creating count based frequency matrix"
   ]
  },
  {
   "cell_type": "code",
   "execution_count": 27,
   "id": "477d2645",
   "metadata": {},
   "outputs": [],
   "source": [
    "word_class_dict = {}\n",
    "classes = [0, 1]\n",
    "word_class_dict[0] = {}\n",
    "word_class_dict[1] = {}\n",
    "def fill_wc_dict(word_class_dict, classes, X_train_dataset):\n",
    "    for cls in classes:\n",
    "        for i in range(len(X_train_dataset[0])):\n",
    "            word_class_dict[cls][i] = 0\n",
    "        word_class_dict[cls]['total_words'] = 0\n",
    "        word_class_dict[cls]['total_essays'] = 0\n",
    "    for i in range(len(X_train_dataset)):\n",
    "        for j in range(len(X_train_dataset[0])):\n",
    "            word_class_dict[train['label'][i]][j] += X_train_dataset[i][j]\n",
    "            word_class_dict[train['label'][i]]['total_words'] += X_train_dataset[i][j]\n",
    "        word_class_dict[train['label'][i]]['total_essays'] += 1\n",
    "    for cls in classes:\n",
    "        word_class_dict[cls]['logprob'] = np.log(word_class_dict[cls]['total_essays'])-np.log(len(X_train_dataset))\n",
    "    return word_class_dict\n",
    "word_class_dict = fill_wc_dict(word_class_dict, classes, X_train_dataset)"
   ]
  },
  {
   "cell_type": "markdown",
   "id": "cf7a045a",
   "metadata": {},
   "source": [
    "### Proability of each class given the training dataset (Prior)"
   ]
  },
  {
   "cell_type": "code",
   "execution_count": 28,
   "id": "f4420bb8",
   "metadata": {},
   "outputs": [
    {
     "data": {
      "text/plain": [
       "(0.6001170960187353, 0.39988290398126447)"
      ]
     },
     "execution_count": 28,
     "metadata": {},
     "output_type": "execute_result"
    }
   ],
   "source": [
    "np.exp(word_class_dict[0]['logprob']), np.exp(word_class_dict[1]['logprob'])"
   ]
  },
  {
   "cell_type": "markdown",
   "id": "5cfc80a8",
   "metadata": {},
   "source": [
    "### Calculate conditional probability for the given class"
   ]
  },
  {
   "cell_type": "code",
   "execution_count": 29,
   "id": "38f2fad5",
   "metadata": {},
   "outputs": [],
   "source": [
    "def probability(word_class_dict, test_point, cls, alpha):\n",
    "    log_prob = word_class_dict[cls]['logprob']\n",
    "    for i in range(len(test_point)):\n",
    "        numerator = np.log(word_class_dict[cls][i]+alpha)\n",
    "        denominator = np.log(word_class_dict[cls]['total_words']+alpha*len(features))\n",
    "        current_word_prob = test_point[i]*(numerator-denominator)\n",
    "        log_prob += current_word_prob\n",
    "    return log_prob"
   ]
  },
  {
   "cell_type": "markdown",
   "id": "d2c83473",
   "metadata": {},
   "source": [
    "### Compare the probability of both classes"
   ]
  },
  {
   "cell_type": "code",
   "execution_count": 30,
   "id": "6e43d304",
   "metadata": {},
   "outputs": [],
   "source": [
    "def predict_best_class(test_point, alpha):\n",
    "    best_class = None\n",
    "    best_prob = None\n",
    "    first_run = True\n",
    "    log_prob_class_0 = probability(word_class_dict, test_point, 0, alpha)\n",
    "    log_prob_class_1 = probability(word_class_dict, test_point, 1, alpha)\n",
    "    if log_prob_class_0 > log_prob_class_1:\n",
    "        best_class = 0\n",
    "    else:\n",
    "        best_class = 1       \n",
    "    return best_class"
   ]
  },
  {
   "cell_type": "markdown",
   "id": "e29219c8",
   "metadata": {},
   "source": [
    "### Inference"
   ]
  },
  {
   "cell_type": "code",
   "execution_count": 31,
   "id": "279359e4",
   "metadata": {},
   "outputs": [],
   "source": [
    "def predict(X_test, alpha):\n",
    "    y_pred = [] \n",
    "    for item in X_test:\n",
    "        y_pred.append(predict_best_class(item, alpha))\n",
    "    return y_pred"
   ]
  },
  {
   "cell_type": "code",
   "execution_count": 32,
   "id": "d49a2242",
   "metadata": {},
   "outputs": [],
   "source": [
    "def score(y_pred, y_true):\n",
    "    count = 0\n",
    "    for ypred, ytrue in zip(y_pred, y_true):\n",
    "        count += int(ypred == ytrue)\n",
    "    return count/len(y_true)"
   ]
  },
  {
   "cell_type": "code",
   "execution_count": 33,
   "id": "c8245411",
   "metadata": {},
   "outputs": [
    {
     "data": {
      "text/plain": [
       "0.7807017543859649"
      ]
     },
     "execution_count": 33,
     "metadata": {},
     "output_type": "execute_result"
    }
   ],
   "source": [
    "label_list = predict(X_test_dataset, 5000)\n",
    "score(label_list, list(test['label']))"
   ]
  },
  {
   "cell_type": "markdown",
   "id": "73a4daf7",
   "metadata": {},
   "source": [
    "### Hyperparameter tuning for alpha (smoothing parameter)"
   ]
  },
  {
   "cell_type": "code",
   "execution_count": 40,
   "id": "5ebe36a3",
   "metadata": {},
   "outputs": [],
   "source": [
    "alpha = [1000000, 500000, 50000, 5000, 500, 50, 5, 1, 0.1, 0.01, 0.001, 0.0001]\n",
    "accuracy = []\n",
    "for item in alpha:\n",
    "    label_list = predict(X_test_dataset, item)\n",
    "    acc = score(label_list, list(test['label']))\n",
    "    accuracy.append(acc)"
   ]
  },
  {
   "cell_type": "code",
   "execution_count": 41,
   "id": "597a76c8",
   "metadata": {},
   "outputs": [
    {
     "data": {
      "text/plain": [
       "[0.6140350877192983,\n",
       " 0.6140350877192983,\n",
       " 0.6140350877192983,\n",
       " 0.7807017543859649,\n",
       " 0.8508771929824561,\n",
       " 0.9964912280701754,\n",
       " 1.0,\n",
       " 0.9982456140350877,\n",
       " 0.9982456140350877,\n",
       " 0.9982456140350877,\n",
       " 0.9982456140350877,\n",
       " 0.9982456140350877]"
      ]
     },
     "execution_count": 41,
     "metadata": {},
     "output_type": "execute_result"
    }
   ],
   "source": [
    "accuracy"
   ]
  },
  {
   "cell_type": "code",
   "execution_count": 29,
   "id": "fc69e583",
   "metadata": {},
   "outputs": [
    {
     "name": "stderr",
     "output_type": "stream",
     "text": [
      "No artists with labels found to put in legend.  Note that artists whose label start with an underscore are ignored when legend() is called with no argument.\n"
     ]
    },
    {
     "data": {
      "image/png": "[encoded data removed]",
      "text/plain": [
       "<Figure size 640x480 with 1 Axes>"
      ]
     },
     "metadata": {},
     "output_type": "display_data"
    }
   ],
   "source": [
    "import matplotlib.pyplot as plt\n",
    "import numpy as np\n",
    "\n",
    "plt.plot(np.log(alpha), accuracy)\n",
    "plt.xlabel('log(alpha)')\n",
    "plt.ylabel('accuracy') \n",
    "plt.title('Effect of smoothing on naive bayes classifier')\n",
    "plt.legend() \n",
    "plt.show()"
   ]
  },
  {
   "cell_type": "markdown",
   "id": "8bad99b1",
   "metadata": {},
   "source": [
    "### With the knee method, we can conclude that alpha_i = 50 is the best parameter given the dev set"
   ]
  },
  {
   "cell_type": "code",
   "execution_count": 30,
   "id": "26711f53",
   "metadata": {},
   "outputs": [
    {
     "data": {
      "text/plain": [
       "0.9982456140350877"
      ]
     },
     "execution_count": 30,
     "metadata": {},
     "output_type": "execute_result"
    }
   ],
   "source": [
    "alpha_i = 50\n",
    "label_list = predict(X_test_dataset, alpha_i)\n",
    "score(label_list, list(test['label']))"
   ]
  },
  {
   "cell_type": "code",
   "execution_count": 31,
   "id": "cb5eb49e",
   "metadata": {},
   "outputs": [],
   "source": [
    "inv_map = {v: k for k, v in features_dict.items()}"
   ]
  },
  {
   "cell_type": "markdown",
   "id": "cae0739d",
   "metadata": {},
   "source": [
    "### Top 10 words class LLM generated words"
   ]
  },
  {
   "cell_type": "code",
   "execution_count": 32,
   "id": "b11b3835",
   "metadata": {},
   "outputs": [
    {
     "name": "stdout",
     "output_type": "stream",
     "text": [
      "car 1945.0\n",
      "usage 1827.0\n",
      "electoral 1534.0\n",
      "college 1352.0\n",
      "limiting 1112.0\n",
      "cars 1027.0\n",
      "states 1019.0\n",
      "environmental 941.0\n",
      "health 828.0\n",
      "benefits 724.0\n"
     ]
    }
   ],
   "source": [
    "sorted_keys = sorted(word_class_dict[1], key=word_class_dict[1].get, reverse=True)\n",
    "j = 0\n",
    "for r in sorted_keys:\n",
    "    if r!= 'total_words' and r!='total_essays':\n",
    "        print(inv_map[r], word_class_dict[1][r])\n",
    "        j += 1\n",
    "        if j == 10:\n",
    "            break"
   ]
  },
  {
   "cell_type": "markdown",
   "id": "6677ce08",
   "metadata": {},
   "source": [
    "### Top 10 words class Human generated words"
   ]
  },
  {
   "cell_type": "code",
   "execution_count": 33,
   "id": "0a78ed03",
   "metadata": {},
   "outputs": [
    {
     "name": "stdout",
     "output_type": "stream",
     "text": [
      "electoral 5550.0\n",
      "people 5013.0\n",
      "college 4619.0\n",
      "vote 4560.0\n",
      "car 4283.0\n",
      "cars 4131.0\n",
      "states 3150.0\n",
      "would 2800.0\n",
      "president 2686.0\n",
      "electors 1931.0\n"
     ]
    }
   ],
   "source": [
    "sorted_keys = sorted(word_class_dict[0], key=word_class_dict[0].get, reverse=True)\n",
    "j = 0\n",
    "for r in sorted_keys:\n",
    "    if r!= 'total_words' and r!='total_essays':\n",
    "        print(inv_map[r], word_class_dict[0][r])\n",
    "        j += 1\n",
    "        if j == 10:\n",
    "            break"
   ]
  }
 ],
 "metadata": {
  "kernelspec": {
   "display_name": "Python 3 (ipykernel)",
   "language": "python",
   "name": "python3"
  },
  "language_info": {
   "codemirror_mode": {
    "name": "ipython",
    "version": 3
   },
   "file_extension": ".py",
   "mimetype": "text/x-python",
   "name": "python",
   "nbconvert_exporter": "python",
   "pygments_lexer": "ipython3",
   "version": "3.11.5"
  }
 },
 "nbformat": 4,
 "nbformat_minor": 5
}
